{
 "cells": [
  {
   "cell_type": "markdown",
   "metadata": {},
   "source": [
    "\n",
    "# Set up"
   ]
  },
  {
   "cell_type": "code",
   "execution_count": 2,
   "metadata": {},
   "outputs": [
    {
     "name": "stdout",
     "output_type": "stream",
     "text": [
      "48\n"
     ]
    }
   ],
   "source": [
    "import ipyparallel\n",
    "\n",
    "rc = ipyparallel.Client()\n",
    "all_engines = rc[:]\n",
    "lbv = rc.load_balanced_view()\n",
    "\n",
    "print len(all_engines)"
   ]
  },
  {
   "cell_type": "code",
   "execution_count": 6,
   "metadata": {
    "scrolled": true
   },
   "outputs": [],
   "source": [
    "%%px --local\n",
    "\n",
    "# numeric packages\n",
    "import numpy as np\n",
    "import pandas as pd\n",
    "\n",
    "# filesystem and OS\n",
    "import sys, os, time\n",
    "import glob\n",
    "\n",
    "# plotting\n",
    "from matplotlib import pyplot as plt\n",
    "import matplotlib\n",
    "%matplotlib inline\n",
    "\n",
    "import seaborn as sns\n",
    "sns.set_style(\"whitegrid\", {'axes.grid' : False})\n",
    "\n",
    "# compression\n",
    "import gzip\n",
    "import cPickle as pickle\n",
    "import copy\n",
    "\n",
    "# geo stuff\n",
    "import geopandas as gpd\n",
    "from shapely.geometry import Point\n",
    "\n",
    "# widgets and interaction\n",
    "from ipywidgets import FloatProgress\n",
    "from IPython.display import display, clear_output\n",
    "\n",
    "import warnings\n",
    "warnings.filterwarnings('ignore')\n",
    "\n",
    "# these magics ensure that external modules that are modified are also automatically reloaded\n",
    "# %load_ext autoreload\n",
    "%reload_ext autoreload"
   ]
  },
  {
   "cell_type": "code",
   "execution_count": 7,
   "metadata": {},
   "outputs": [],
   "source": [
    "%%px --local\n",
    "\n",
    "# path to shapefiles\n",
    "\n",
    "shapefiles_path = \"/home/data/urban-atlas/shapefiles/\"\n",
    "\n",
    "shapefiles = glob.glob(\"%s/*/*/*.shp\"%shapefiles_path)\n",
    "shapefiles = {\" \".join(f.split(\"/\")[-1].split(\"_\")[1:]).replace(\".shp\",\"\"):f for f in shapefiles}\n"
   ]
  },
  {
   "cell_type": "code",
   "execution_count": 8,
   "metadata": {},
   "outputs": [],
   "source": [
    "%%px --local\n",
    "\n",
    "# path to save data\n",
    "\n",
    "outPath = \"/home/data/urban-atlas/extracted-data\"\n",
    "\n",
    "if not os.path.exists(outPath):\n",
    "    os.makedirs(outPath)"
   ]
  },
  {
   "cell_type": "code",
   "execution_count": 5,
   "metadata": {},
   "outputs": [],
   "source": [
    "%%px --local\n",
    "\n",
    "classes = '''Agricultural + Semi-natural areas + Wetlands\n",
    "Airports\n",
    "Construction sites\n",
    "Continuous Urban Fabric (S.L. > 80%)\n",
    "Discontinuous Dense Urban Fabric (S.L. : 50% -  80%)\n",
    "Discontinuous Low Density Urban Fabric (S.L. : 10% - 30%)\n",
    "Discontinuous Medium Density Urban Fabric (S.L. : 30% - 50%)\n",
    "Discontinuous Very Low Density Urban Fabric (S.L. < 10%)\n",
    "Fast transit roads and associated land\n",
    "Forests\n",
    "Green urban areas\n",
    "Industrial, commercial, public, military and private units\n",
    "Isolated Structures\n",
    "Land without current use\n",
    "Mineral extraction and dump sites\n",
    "Other roads and associated land\n",
    "Port areas\n",
    "Railways and associated land\n",
    "Sports and leisure facilities\n",
    "Water bodies'''.split(\"\\n\")\n",
    "\n",
    "class2label = {c:i for i,c in enumerate(classes)}\n",
    "label2class = {i:c for i,c in enumerate(classes)}"
   ]
  },
  {
   "cell_type": "code",
   "execution_count": 9,
   "metadata": {
    "collapsed": true
   },
   "outputs": [],
   "source": [
    "%%px --local\n",
    "\n",
    "def load_shapefile(shapefile):\n",
    "    # read in shapefile\n",
    "    try:\n",
    "        gdf = gpd.GeoDataFrame.from_file(shapefile)\n",
    "    except:\n",
    "        print \"--> %s: error reading file!\"%shapefile\n",
    "        return None, None\n",
    "\n",
    "    city = shapefile.split(\"/\")[-1].split(\"_\")[1]\n",
    "    gdf.columns = [c.upper() if c != \"geometry\" else c for c in gdf.columns ]\n",
    "    if 'SHAPE_AREA' not in gdf.columns:\n",
    "        gdf['SHAPE_AREA'] = gdf['geometry'].apply(lambda p: p.area)\n",
    "    if 'SHAPE_LEN' not in gdf.columns:\n",
    "        gdf['SHAPE_LEN'] = gdf['geometry'].apply(lambda p: p.length)\n",
    "        \n",
    "    # convert area & length to km\n",
    "    gdf['SHAPE_AREA'] = gdf['SHAPE_AREA'] / 1.0e6 # convert to km^2\n",
    "    gdf['SHAPE_LEN']  = gdf['SHAPE_LEN'] / 1.0e3 # convert to km\n",
    "\n",
    "    classes = gdf['ITEM'].unique()\n",
    "    print \"%s: %d polygons | %d land use classes\" % (city, len(gdf), len(classes))\n",
    "\n",
    "    # read in projection file associated with shapefile\n",
    "    prjfile = shapefile.replace(\".shp\", \".prj\")\n",
    "    prj = satimg.read_prj(prjfile)   \n",
    "    \n",
    "    # change coordinate system from northing/easting to lonlat\n",
    "    targetcrs = {u'ellps': u'WGS84', u'datum': u'WGS84', u'proj': u'longlat'}\n",
    "    gdf.to_crs(crs=targetcrs, inplace=True)\n",
    "\n",
    "    return gdf, prj"
   ]
  },
  {
   "cell_type": "markdown",
   "metadata": {},
   "source": [
    "# Generate locations to extract imagery at\n",
    "\n",
    "Our sampling strategy has the following goals:\n",
    "* ensure that a uniform $100 \\times 100 ~ (25km \\times 25km)$ \"main grid\" is completely sampled (except for where there are no ground truth polygons). We generate samples in this grid first, and assign the ground truth label of the image sampled in each grid cell to the class of the polygon that has the maximum intersection area with that cell; \n",
    "* ensure that the resulting dataset is balanced with respect to the land use classes. The trouble is that the classes are highly imbalanced among the polygons in the dataset (e.g., many more polygons are agricultural land and isolated structures than airports).\n",
    "* sample additional polygons apart from the ones in the initial grid, such that only polygons above a certain threshold size are considered (so that we can ensure that the sampled images contain a large enough area of the class they represent). \n",
    "* to ensure higher match between labels and sampled images, sample more images from polygons of larger areas"
   ]
  },
  {
   "cell_type": "code",
   "execution_count": 30,
   "metadata": {},
   "outputs": [],
   "source": [
    "%%px --local\n",
    "\n",
    "img_area = (224 * 1.19/ 1000)**2 # in km^2, at zoom level 17\n",
    "thresh_frac = 0.25 # at least <thresh_frac> % of the image should be covered by a polygon of a given class\n",
    "thresh_area = img_area * thresh_frac  \n",
    "# print \"Threshold area: %2.2f km^2\"%thresh_area\n",
    "\n",
    "n_classes = len(classes)\n",
    "\n",
    "N_SAMPLES_PER_CITY  = 25000\n",
    "N_SAMPLES_PER_CLASS = N_SAMPLES_PER_CITY / n_classes\n",
    "MAX_SAMPLES_PER_POLY= 50"
   ]
  },
  {
   "cell_type": "code",
   "execution_count": 17,
   "metadata": {},
   "outputs": [
    {
     "data": {
      "text/plain": [
       "0.07105423360000002"
      ]
     },
     "execution_count": 17,
     "metadata": {},
     "output_type": "execute_result"
    }
   ],
   "source": [
    "img_area"
   ]
  },
  {
   "cell_type": "code",
   "execution_count": 51,
   "metadata": {},
   "outputs": [
    {
     "name": "stdout",
     "output_type": "stream",
     "text": [
      "madrid.shp: 79135 polygons | 19 land use classes\n",
      "79135 20688\n"
     ]
    },
    {
     "data": {
      "text/plain": [
       "ITEM\n",
       "Agricultural + Semi-natural areas + Wetlands                    5866\n",
       "Airports                                                           8\n",
       "Construction sites                                               648\n",
       "Continuous Urban Fabric (S.L. > 80%)                             549\n",
       "Discontinuous Dense Urban Fabric (S.L. : 50% -  80%)            1525\n",
       "Discontinuous Low Density Urban Fabric (S.L. : 10% - 30%)       1498\n",
       "Discontinuous Medium Density Urban Fabric (S.L. : 30% - 50%)    1547\n",
       "Discontinuous Very Low Density Urban Fabric (S.L. < 10%)         563\n",
       "Fast transit roads and associated land                            89\n",
       "Forests                                                         2675\n",
       "Green urban areas                                                643\n",
       "Industrial, commercial, public, military and private units      3460\n",
       "Isolated Structures                                               61\n",
       "Mineral extraction and dump sites                                379\n",
       "Other roads and associated land                                  240\n",
       "Railways and associated land                                     149\n",
       "Sports and leisure facilities                                    599\n",
       "Water bodies                                                     189\n",
       "dtype: int64"
      ]
     },
     "execution_count": 51,
     "metadata": {},
     "output_type": "execute_result"
    }
   ],
   "source": [
    "shapefile = shapefiles['madrid']\n",
    "\n",
    "gdf, proj = load_shapefile(shapefile)\n",
    "\n",
    "gdf_sel = gdf[gdf.SHAPE_AREA>=thresh_area]\n",
    "print len(gdf), len(gdf_sel)\n",
    "\n",
    "gdf_sel.groupby(\"ITEM\").apply(len)"
   ]
  },
  {
   "cell_type": "code",
   "execution_count": 52,
   "metadata": {},
   "outputs": [],
   "source": [
    "%%px --local\n",
    "\n",
    "def fn_select_polygons(df, n_samples=1000, max_samples=None):    \n",
    "    samples_per_poly = (df.SHAPE_AREA/float(df.SHAPE_AREA.min()))\\\n",
    "                            .astype(int)\n",
    "    # print df.ITEM.iloc[0]\n",
    "    if samples_per_poly.sum() > n_samples:\n",
    "        pvec = np.array([0.0, 0.2, 0.5, 0.7, 0.9, 0.95, 1])\n",
    "        bins = np.percentile(samples_per_poly, pvec*100)\n",
    "        cnts, _ = np.histogram(samples_per_poly, bins)\n",
    "\n",
    "        ret = []\n",
    "        x = samples_per_poly\n",
    "        for i in range(len(bins)-1):\n",
    "            if cnts[i] == 0:\n",
    "                continue\n",
    "            y = x[(x>=bins[i]) & (x<bins[i+1])] if i<len(bins)-2 \\\n",
    "                    else x[(x>=bins[i]) & (x<=bins[i+1])]\n",
    "            # print i, (bins[i], bins[i+1]), cnts[i], pvec[i+1], len(x[(x>=bins[i]) & (x<=bins[i+1])])\n",
    "            y = y.sample(frac=pvec[i+1])\n",
    "            ret.append(y)\n",
    "        ret = pd.concat(ret)\n",
    "        ret_scaled = (ret.astype(float) / ret.sum() * n_samples)\\\n",
    "                        .apply(np.ceil).astype(int)\n",
    "        ret_df = df.ix[ret_scaled.index]\n",
    "        ret_df['samples'] = ret_scaled.values\n",
    "    else:\n",
    "        ret_df = df\n",
    "        ret_df['samples'] = samples_per_poly.values\n",
    "    \n",
    "    # clamp # samples per polygon if specified\n",
    "    if max_samples is not None:\n",
    "        ret_df['samples'] = ret_df['samples'].apply(\\\n",
    "                                    lambda x: min([x, max_samples]))\n",
    "    ret_df['samples'] = ret_df['samples'].astype(int)\n",
    "    return ret_df"
   ]
  },
  {
   "cell_type": "code",
   "execution_count": 53,
   "metadata": {
    "scrolled": false
   },
   "outputs": [],
   "source": [
    "select_polygons = gdf_sel.groupby(\"ITEM\")\\\n",
    "    .apply(lambda x: fn_select_polygons(x, n_samples=N_SAMPLES_PER_CLASS, max_samples=MAX_SAMPLES_PER_POLY))\n"
   ]
  },
  {
   "cell_type": "code",
   "execution_count": 54,
   "metadata": {},
   "outputs": [
    {
     "data": {
      "text/html": [
       "<div>\n",
       "<table border=\"1\" class=\"dataframe\">\n",
       "  <thead>\n",
       "    <tr style=\"text-align: right;\">\n",
       "      <th></th>\n",
       "      <th>#polys</th>\n",
       "      <th>#polys&gt;thres_area</th>\n",
       "      <th>#samples</th>\n",
       "    </tr>\n",
       "  </thead>\n",
       "  <tbody>\n",
       "    <tr>\n",
       "      <th>Agricultural + Semi-natural areas + Wetlands</th>\n",
       "      <td>9302</td>\n",
       "      <td>5866.0</td>\n",
       "      <td>4659.0</td>\n",
       "    </tr>\n",
       "    <tr>\n",
       "      <th>Airports</th>\n",
       "      <td>11</td>\n",
       "      <td>8.0</td>\n",
       "      <td>125.0</td>\n",
       "    </tr>\n",
       "    <tr>\n",
       "      <th>Construction sites</th>\n",
       "      <td>2189</td>\n",
       "      <td>648.0</td>\n",
       "      <td>1400.0</td>\n",
       "    </tr>\n",
       "    <tr>\n",
       "      <th>Continuous Urban Fabric (S.L. &gt; 80%)</th>\n",
       "      <td>13470</td>\n",
       "      <td>549.0</td>\n",
       "      <td>682.0</td>\n",
       "    </tr>\n",
       "    <tr>\n",
       "      <th>Discontinuous Dense Urban Fabric (S.L. : 50% -  80%)</th>\n",
       "      <td>12208</td>\n",
       "      <td>1525.0</td>\n",
       "      <td>1851.0</td>\n",
       "    </tr>\n",
       "    <tr>\n",
       "      <th>Discontinuous Low Density Urban Fabric (S.L. : 10% - 30%)</th>\n",
       "      <td>5091</td>\n",
       "      <td>1498.0</td>\n",
       "      <td>1952.0</td>\n",
       "    </tr>\n",
       "    <tr>\n",
       "      <th>Discontinuous Medium Density Urban Fabric (S.L. : 30% - 50%)</th>\n",
       "      <td>6227</td>\n",
       "      <td>1547.0</td>\n",
       "      <td>1833.0</td>\n",
       "    </tr>\n",
       "    <tr>\n",
       "      <th>Discontinuous Very Low Density Urban Fabric (S.L. &lt; 10%)</th>\n",
       "      <td>2547</td>\n",
       "      <td>563.0</td>\n",
       "      <td>842.0</td>\n",
       "    </tr>\n",
       "    <tr>\n",
       "      <th>Fast transit roads and associated land</th>\n",
       "      <td>98</td>\n",
       "      <td>89.0</td>\n",
       "      <td>984.0</td>\n",
       "    </tr>\n",
       "    <tr>\n",
       "      <th>Forests</th>\n",
       "      <td>3522</td>\n",
       "      <td>2675.0</td>\n",
       "      <td>2695.0</td>\n",
       "    </tr>\n",
       "    <tr>\n",
       "      <th>Green urban areas</th>\n",
       "      <td>2860</td>\n",
       "      <td>643.0</td>\n",
       "      <td>1241.0</td>\n",
       "    </tr>\n",
       "    <tr>\n",
       "      <th>Industrial, commercial, public, military and private units</th>\n",
       "      <td>11064</td>\n",
       "      <td>3460.0</td>\n",
       "      <td>3203.0</td>\n",
       "    </tr>\n",
       "    <tr>\n",
       "      <th>Isolated Structures</th>\n",
       "      <td>5093</td>\n",
       "      <td>61.0</td>\n",
       "      <td>61.0</td>\n",
       "    </tr>\n",
       "    <tr>\n",
       "      <th>Land without current use</th>\n",
       "      <td>1537</td>\n",
       "      <td>NaN</td>\n",
       "      <td>NaN</td>\n",
       "    </tr>\n",
       "    <tr>\n",
       "      <th>Mineral extraction and dump sites</th>\n",
       "      <td>707</td>\n",
       "      <td>379.0</td>\n",
       "      <td>1249.0</td>\n",
       "    </tr>\n",
       "    <tr>\n",
       "      <th>Other roads and associated land</th>\n",
       "      <td>1146</td>\n",
       "      <td>240.0</td>\n",
       "      <td>1276.0</td>\n",
       "    </tr>\n",
       "    <tr>\n",
       "      <th>Railways and associated land</th>\n",
       "      <td>277</td>\n",
       "      <td>149.0</td>\n",
       "      <td>676.0</td>\n",
       "    </tr>\n",
       "    <tr>\n",
       "      <th>Sports and leisure facilities</th>\n",
       "      <td>1455</td>\n",
       "      <td>599.0</td>\n",
       "      <td>1398.0</td>\n",
       "    </tr>\n",
       "    <tr>\n",
       "      <th>Water bodies</th>\n",
       "      <td>331</td>\n",
       "      <td>189.0</td>\n",
       "      <td>810.0</td>\n",
       "    </tr>\n",
       "  </tbody>\n",
       "</table>\n",
       "</div>"
      ],
      "text/plain": [
       "                                                    #polys  #polys>thres_area  \\\n",
       "Agricultural + Semi-natural areas + Wetlands          9302             5866.0   \n",
       "Airports                                                11                8.0   \n",
       "Construction sites                                    2189              648.0   \n",
       "Continuous Urban Fabric (S.L. > 80%)                 13470              549.0   \n",
       "Discontinuous Dense Urban Fabric (S.L. : 50% - ...   12208             1525.0   \n",
       "Discontinuous Low Density Urban Fabric (S.L. : ...    5091             1498.0   \n",
       "Discontinuous Medium Density Urban Fabric (S.L....    6227             1547.0   \n",
       "Discontinuous Very Low Density Urban Fabric (S....    2547              563.0   \n",
       "Fast transit roads and associated land                  98               89.0   \n",
       "Forests                                               3522             2675.0   \n",
       "Green urban areas                                     2860              643.0   \n",
       "Industrial, commercial, public, military and pr...   11064             3460.0   \n",
       "Isolated Structures                                   5093               61.0   \n",
       "Land without current use                              1537                NaN   \n",
       "Mineral extraction and dump sites                      707              379.0   \n",
       "Other roads and associated land                       1146              240.0   \n",
       "Railways and associated land                           277              149.0   \n",
       "Sports and leisure facilities                         1455              599.0   \n",
       "Water bodies                                           331              189.0   \n",
       "\n",
       "                                                    #samples  \n",
       "Agricultural + Semi-natural areas + Wetlands          4659.0  \n",
       "Airports                                               125.0  \n",
       "Construction sites                                    1400.0  \n",
       "Continuous Urban Fabric (S.L. > 80%)                   682.0  \n",
       "Discontinuous Dense Urban Fabric (S.L. : 50% - ...    1851.0  \n",
       "Discontinuous Low Density Urban Fabric (S.L. : ...    1952.0  \n",
       "Discontinuous Medium Density Urban Fabric (S.L....    1833.0  \n",
       "Discontinuous Very Low Density Urban Fabric (S....     842.0  \n",
       "Fast transit roads and associated land                 984.0  \n",
       "Forests                                               2695.0  \n",
       "Green urban areas                                     1241.0  \n",
       "Industrial, commercial, public, military and pr...    3203.0  \n",
       "Isolated Structures                                     61.0  \n",
       "Land without current use                                 NaN  \n",
       "Mineral extraction and dump sites                     1249.0  \n",
       "Other roads and associated land                       1276.0  \n",
       "Railways and associated land                           676.0  \n",
       "Sports and leisure facilities                         1398.0  \n",
       "Water bodies                                           810.0  "
      ]
     },
     "execution_count": 54,
     "metadata": {},
     "output_type": "execute_result"
    }
   ],
   "source": [
    "pd.concat([gdf.groupby(\"ITEM\").apply(len),\n",
    "           gdf_sel.groupby(\"ITEM\").apply(len),\n",
    "           select_polygons.groupby(\"ITEM\").apply(lambda x: x['samples'].sum())\n",
    "          ], 1).rename(columns={0:\"#polys\", 1:\"#polys>thres_area\", 2:\"#samples\"})"
   ]
  },
  {
   "cell_type": "code",
   "execution_count": 21,
   "metadata": {},
   "outputs": [],
   "source": [
    "%%px --local\n",
    "\n",
    "# given a list of polygons of the same type, generate locations for sampling images\n",
    "\n",
    "def fn_sample_locations(df, sample_on_boundary=False):\n",
    "    polygons = df['geometry']\n",
    "    nsamples = df['samples']\n",
    "    \n",
    "    if not sample_on_boundary:\n",
    "        centroids = np.array([(p.centroid.coords.xy[0][0], p.centroid.coords.xy[1][0]) \\\n",
    "                      for p in polygons])    \n",
    "        idx = nsamples > 1\n",
    "        if idx.sum()>0:\n",
    "            polygons = polygons[idx]\n",
    "            nsamples = nsamples[idx]\n",
    "            locs = [satimg.generate_locations_within_polygon(p, nSamples=m-1, strict=True) \\\n",
    "                    for p,m in zip(polygons, nsamples)]\n",
    "            locs = np.vstack(locs).squeeze()\n",
    "            locs = np.vstack([locs, centroids])\n",
    "        else:\n",
    "            locs = centroids\n",
    "    else:\n",
    "        boundaries= [zip(p.exterior.coords.xy[0], p.exterior.coords.xy[1]) \\\n",
    "                     for p in polygons]\n",
    "        locs = np.array([b[l] for b,m in zip(boundaries,nsamples) \\\n",
    "                         for l in np.random.choice(np.arange(0,len(b)), min([len(b),m]))])\n",
    "    ret = pd.DataFrame(locs, columns=[\"lon\", \"lat\"])\n",
    "    return ret\n"
   ]
  },
  {
   "cell_type": "code",
   "execution_count": 55,
   "metadata": {},
   "outputs": [
    {
     "name": "stdout",
     "output_type": "stream",
     "text": [
      "(26937, 2)\n"
     ]
    },
    {
     "data": {
      "text/plain": [
       "ITEM\n",
       "Agricultural + Semi-natural areas + Wetlands                    4659\n",
       "Airports                                                         125\n",
       "Construction sites                                              1400\n",
       "Continuous Urban Fabric (S.L. > 80%)                             682\n",
       "Discontinuous Dense Urban Fabric (S.L. : 50% -  80%)            1851\n",
       "Discontinuous Low Density Urban Fabric (S.L. : 10% - 30%)       1952\n",
       "Discontinuous Medium Density Urban Fabric (S.L. : 30% - 50%)    1833\n",
       "Discontinuous Very Low Density Urban Fabric (S.L. < 10%)         842\n",
       "Fast transit roads and associated land                           984\n",
       "Forests                                                         2695\n",
       "Green urban areas                                               1241\n",
       "Industrial, commercial, public, military and private units      3203\n",
       "Isolated Structures                                               61\n",
       "Mineral extraction and dump sites                               1249\n",
       "Other roads and associated land                                 1276\n",
       "Railways and associated land                                     676\n",
       "Sports and leisure facilities                                   1398\n",
       "Water bodies                                                     810\n",
       "dtype: int64"
      ]
     },
     "execution_count": 55,
     "metadata": {},
     "output_type": "execute_result"
    }
   ],
   "source": [
    "locations = select_polygons.groupby(\"ITEM\")\\\n",
    "                .apply(lambda x: fn_sample_locations(x,\n",
    "                        sample_on_boundary = ('road' in x['ITEM'].iloc[0].lower() or 'railway' in x['ITEM'].iloc[0].lower())\n",
    "            ))\n",
    "\n",
    "    \n",
    "# locations.to_csv(\"%s/samples_%s.csv\"%(outPath, city))\n",
    "\n",
    "print locations.shape\n",
    "\n",
    "locations.reset_index().groupby(\"ITEM\").apply(len)"
   ]
  },
  {
   "cell_type": "markdown",
   "metadata": {},
   "source": [
    "# Generate locations for all cities in the Urban Atlas dataset\n",
    "\n",
    "It does take ~30 seconds for each city,so this will take a while..."
   ]
  },
  {
   "cell_type": "code",
   "execution_count": 56,
   "metadata": {},
   "outputs": [
    {
     "data": {
      "text/plain": [
       "'/home/adalbert/data/urban-atlas/extracted-data'"
      ]
     },
     "execution_count": 56,
     "metadata": {},
     "output_type": "execute_result"
    }
   ],
   "source": [
    "outPath"
   ]
  },
  {
   "cell_type": "code",
   "execution_count": 69,
   "metadata": {
    "scrolled": false
   },
   "outputs": [],
   "source": [
    "def fn_generate_locations(shapefile, force=True):\n",
    "    city = \" \".join(shapefile.split(\"/\")[-1].split(\"_\")[1:]).replace(\".shp\",\"\")\n",
    "    \n",
    "    savefile = \"%s/%s/additional_sample_locations.csv\"%(outPath, city)\n",
    "    if os.path.exists(savefile) and not force:\n",
    "        return \"Sample file already exists %s\" % savefile\n",
    "    \n",
    "    gdf, prj = load_shapefile(shapefile)\n",
    "    gdf_sel = gdf[gdf.SHAPE_AREA>=thresh_area]\n",
    "\n",
    "    # select polygons to sample\n",
    "    select_polygons = gdf_sel.groupby(\"ITEM\")\\\n",
    "                        .apply(lambda x: fn_select_polygons(x, \n",
    "                                            n_samples=N_SAMPLES_PER_CLASS, max_samples=MAX_SAMPLES_PER_POLY))\n",
    "    if \"ITEM\" not in select_polygons.columns:\n",
    "        select_polygons.reset_index(inplace=True)\n",
    "    \n",
    "    # make sure all polygons are ok\n",
    "    # some polygons have their geometries messed up in the previous step??\n",
    "    select_polygons['geometry'] = select_polygons['geometry'].apply(lambda p: p.buffer(0) if not p.is_valid else p)\n",
    "    \n",
    "    # sample locations from each polygon\n",
    "    locations = select_polygons.groupby(\"ITEM\")\\\n",
    "                .apply(lambda x: fn_sample_locations(x,\n",
    "                        sample_on_boundary = 'road' in x['ITEM'].iloc[0].lower() \\\n",
    "                                                or 'railway' in x['ITEM'].iloc[0].lower()))\n",
    "    \n",
    "    print \"--> selected %d sampling locations.\"%len(locations)\n",
    "    locations.to_csv(savefile)"
   ]
  },
  {
   "cell_type": "code",
   "execution_count": 78,
   "metadata": {
    "collapsed": true
   },
   "outputs": [],
   "source": [
    "res_locs = lbv.map_async(fn_generate_locations, shapefiles.values())"
   ]
  },
  {
   "cell_type": "code",
   "execution_count": 85,
   "metadata": {},
   "outputs": [
    {
     "data": {
      "text/plain": [
       "299"
      ]
     },
     "execution_count": 85,
     "metadata": {},
     "output_type": "execute_result"
    }
   ],
   "source": [
    "res_locs.progress"
   ]
  },
  {
   "cell_type": "code",
   "execution_count": 76,
   "metadata": {},
   "outputs": [
    {
     "name": "stdout",
     "output_type": "stream",
     "text": [
      "kielce.shp: 19232 polygons | 18 land use classes\n"
     ]
    },
    {
     "name": "stderr",
     "output_type": "stream",
     "text": [
      "Self-intersection at or near point 20.458340738537622 51.053626277262069\n"
     ]
    },
    {
     "name": "stdout",
     "output_type": "stream",
     "text": [
      "--> selected 9599 sampling locations.\n"
     ]
    }
   ],
   "source": [
    "fn_generate_locations(shapefiles.values()[47])"
   ]
  },
  {
   "cell_type": "code",
   "execution_count": null,
   "metadata": {},
   "outputs": [],
   "source": [
    "res_locs.result()"
   ]
  },
  {
   "cell_type": "code",
   "execution_count": null,
   "metadata": {
    "collapsed": true
   },
   "outputs": [],
   "source": [
    "tr_df = pd.read_csv(\"/home/adalbert/data/urban-atlas/extracted-data/bucuresti/additional_sample_locations.csv\")\n",
    "ts_df = pd.read_csv(\"/home/adalbert/data/urban-atlas/extracted-data/bucuresti/sample_locations_raster_25.csv\")\n"
   ]
  },
  {
   "cell_type": "code",
   "execution_count": null,
   "metadata": {},
   "outputs": [],
   "source": [
    "tr_df['ITEM'].value_counts()"
   ]
  },
  {
   "cell_type": "code",
   "execution_count": null,
   "metadata": {},
   "outputs": [],
   "source": [
    "ts_df.head()"
   ]
  },
  {
   "cell_type": "code",
   "execution_count": null,
   "metadata": {},
   "outputs": [],
   "source": [
    "ts_df['class'].value_counts()"
   ]
  },
  {
   "cell_type": "code",
   "execution_count": null,
   "metadata": {
    "collapsed": true
   },
   "outputs": [],
   "source": [
    "sys.path.append(\"/home/adalbert/nbserver/satsense/keras-models/\")\n",
    "\n",
    "import keras_utils as ku\n"
   ]
  },
  {
   "cell_type": "code",
   "execution_count": null,
   "metadata": {},
   "outputs": [],
   "source": [
    "ku.balanced_df(ts_df, nrows=100)['class'].value_counts()"
   ]
  },
  {
   "cell_type": "code",
   "execution_count": null,
   "metadata": {
    "collapsed": true
   },
   "outputs": [],
   "source": []
  }
 ],
 "metadata": {
  "kernelspec": {
   "display_name": "Python 2",
   "language": "python",
   "name": "python2"
  },
  "language_info": {
   "codemirror_mode": {
    "name": "ipython",
    "version": 2
   },
   "file_extension": ".py",
   "mimetype": "text/x-python",
   "name": "python",
   "nbconvert_exporter": "python",
   "pygments_lexer": "ipython2",
   "version": "2.7.12"
  }
 },
 "nbformat": 4,
 "nbformat_minor": 1
}
