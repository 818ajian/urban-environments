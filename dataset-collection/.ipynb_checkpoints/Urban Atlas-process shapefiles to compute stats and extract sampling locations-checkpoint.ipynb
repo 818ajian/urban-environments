{
 "cells": [
  {
   "cell_type": "markdown",
   "metadata": {},
   "source": [
    "\n",
    "# Urban Atlas - process shapefiles to define training and evaluation datasets"
   ]
  },
  {
   "cell_type": "markdown",
   "metadata": {},
   "source": [
    "This notebook processess the collection of GIS vector data (shapefiles) on land use classses from the Urban Atlas dataset. The tasks we are interested in are:\n",
    "\n",
    "* compute basic statistics on each shapefile, such as the spatial extent of the city and the amount of land classified within each city\n",
    "* construct ground truth test grids (defined as a $25km \\times 25km$ square window around the city center)\n",
    "* define locations to sample images, both for testing (each cell of the ground truth grid) and for training (sampled appropriately from all available data)\n",
    "\n",
    "In this analysis we work directly with vector data (polygons) for all the above tasks. This is a faster way to process the data for our specific use case of whole-image classification, as opposed to the more accurate approach of rasterizing the data first, then computing classification masks (which is more suited for image segmentation)."
   ]
  },
  {
   "cell_type": "markdown",
   "metadata": {},
   "source": [
    "# Setup: packages, paths etc."
   ]
  },
  {
   "cell_type": "code",
   "execution_count": 1,
   "metadata": {},
   "outputs": [
    {
     "name": "stdout",
     "output_type": "stream",
     "text": [
      "48\n"
     ]
    }
   ],
   "source": [
    "import ipyparallel\n",
    "\n",
    "rc = ipyparallel.Client()\n",
    "all_engines = rc[:]\n",
    "lbv = rc.load_balanced_view()\n",
    "\n",
    "print len(all_engines)"
   ]
  },
  {
   "cell_type": "code",
   "execution_count": 2,
   "metadata": {
    "collapsed": true
   },
   "outputs": [],
   "source": [
    "%%px --local\n",
    "\n",
    "# numeric packages\n",
    "import numpy as np\n",
    "import pandas as pd\n",
    "\n",
    "# filesystem and OS\n",
    "import sys, os, time\n",
    "import glob\n",
    "\n",
    "# plotting\n",
    "from matplotlib import pyplot as plt\n",
    "import matplotlib\n",
    "%matplotlib inline\n",
    "\n",
    "import seaborn as sns\n",
    "sns.set_style(\"whitegrid\", {'axes.grid' : False})\n",
    "\n",
    "# compression\n",
    "import gzip\n",
    "import cPickle as pickle\n",
    "import copy\n",
    "\n",
    "# widgets and interaction\n",
    "from ipywidgets import FloatProgress\n",
    "from IPython.display import display, clear_output\n",
    "\n",
    "import warnings\n",
    "warnings.filterwarnings('ignore')\n",
    "\n",
    "# these magics ensure that external modules that are modified are also automatically reloaded\n",
    "%reload_ext autoreload\n",
    "%autoreload 2"
   ]
  },
  {
   "cell_type": "code",
   "execution_count": 3,
   "metadata": {
    "collapsed": true
   },
   "outputs": [],
   "source": [
    "%%px --local\n",
    "\n",
    "# custom module for analyzing Urban Atlas data\n",
    "\n",
    "import sys\n",
    "if \"../urbanatlas/\" not in sys.path:\n",
    "    sys.path.append(\"../urbanatlas/\")\n",
    "import urbanatlas as ua"
   ]
  },
  {
   "cell_type": "code",
   "execution_count": 5,
   "metadata": {
    "collapsed": true
   },
   "outputs": [],
   "source": [
    "%%px --local\n",
    "\n",
    "# path to shapefiles\n",
    "\n",
    "shapefiles_path = \"/home/data/urban-atlas/shapefiles/\"\n",
    "\n",
    "import re\n",
    "\n",
    "def fn_process_path(s):\n",
    "    b = os.path.basename(s).split(\".\")[0]\n",
    "    country = b.split(\"_\")[0]\n",
    "    city = \" \".join(b.split(\"_\")[1:])\n",
    "    country = re.findall(\"[a-zA-Z]+\", country)[0]\n",
    "    return (city, country)\n",
    "\n",
    "shapefiles = glob.glob(\"%s/*/*/*.shp\"%shapefiles_path)\n",
    "shapefiles = {\"%s, %s\" % fn_process_path(f):f for f in shapefiles}\n",
    "\n",
    "# path to save data\n",
    "\n",
    "outPath = \"/home/data/urban-atlas/extracted-data\"\n",
    "\n",
    "if not os.path.exists(outPath):\n",
    "    os.makedirs(outPath)\n",
    "    \n",
    "# classess used in the Urban Atlas dataset\n",
    "\n",
    "classes = '''Agricultural + Semi-natural areas + Wetlands\n",
    "Airports\n",
    "Construction sites\n",
    "Continuous Urban Fabric (S.L. > 80%)\n",
    "Discontinuous Dense Urban Fabric (S.L. : 50% -  80%)\n",
    "Discontinuous Low Density Urban Fabric (S.L. : 10% - 30%)\n",
    "Discontinuous Medium Density Urban Fabric (S.L. : 30% - 50%)\n",
    "Discontinuous Very Low Density Urban Fabric (S.L. < 10%)\n",
    "Fast transit roads and associated land\n",
    "Forests\n",
    "Green urban areas\n",
    "Industrial, commercial, public, military and private units\n",
    "Isolated Structures\n",
    "Land without current use\n",
    "Mineral extraction and dump sites\n",
    "Other roads and associated land\n",
    "Port areas\n",
    "Railways and associated land\n",
    "Sports and leisure facilities\n",
    "Water bodies'''.split(\"\\n\")\n",
    "\n",
    "class2label = {c:i for i,c in enumerate(classes)}\n",
    "label2class = {i:c for i,c in enumerate(classes)}\n"
   ]
  },
  {
   "cell_type": "markdown",
   "metadata": {},
   "source": [
    "# Pipeline for constructing training and evaluation datasets\n",
    "\n",
    "1. **Construct ground truth rasters for validation**\n",
    "\n",
    "    Also compute useful stats within windows of L=25,30,50km around the city center:\n",
    "    * percentage of polygons per class \n",
    "    * percentage of classified area per class\n",
    "    * percentage of classified area vs total area\n",
    "2. **Generate locations to extract imagery at**\n",
    "\n",
    "    Our sampling strategy has the following goals:\n",
    "    * ensure that a uniform $100 \\times 100 ~ (25km \\times 25km)$ \"main grid\" is completely sampled (except for where there are no ground truth polygons). We generate samples in this grid first, and assign the ground truth label of the image sampled in each grid cell to the class of the polygon that has the maximum intersection area with that cell; \n",
    "    * ensure that the resulting dataset is balanced with respect to the land use classes. The trouble is that the classes are highly imbalanced among the polygons in the dataset (e.g., many more polygons are agricultural land and isolated structures than airports).\n",
    "    * sample additional polygons apart from the ones in the initial grid, such that only polygons above a certain threshold size are considered (so that we can ensure that the sampled images contain a large enough area of the class they represent). \n",
    "    * to ensure higher match between labels and sampled images, sample more images from polygons of larger areas"
   ]
  },
  {
   "cell_type": "markdown",
   "metadata": {},
   "source": [
    "#### Test functionality for one example city"
   ]
  },
  {
   "cell_type": "code",
   "execution_count": null,
   "metadata": {
    "collapsed": true
   },
   "outputs": [],
   "source": [
    "myname = \"bucuresti, ro\"\n",
    "\n",
    "# read in shapefile\n",
    "shapefile = shapefiles[myname]\n",
    "\n",
    "mycity = ua.UAShapeFile(shapefile, name=myname)\n",
    "\n",
    "L = mycity.compute_spatial_extent()\n",
    "print \"Spatial extent: %2.2f km.\" % L\n",
    "\n",
    "classified_pct = mycity.compute_classified_area()\n",
    "print classified_pct"
   ]
  },
  {
   "cell_type": "code",
   "execution_count": null,
   "metadata": {
    "collapsed": true
   },
   "outputs": [],
   "source": [
    "lonmin, latmin, lonmax, latmax = mycity._bounds\n",
    "city_center = ((latmin+latmax)/2.0, (lonmin+lonmax)/2.0)\n",
    "mycity_crop = mycity.crop_centered_window(city_center, (25,25))\n",
    "\n",
    "print mycity_crop._gdf.shape, mycity._gdf.shape"
   ]
  },
  {
   "cell_type": "code",
   "execution_count": null,
   "metadata": {
    "collapsed": true
   },
   "outputs": [],
   "source": [
    "raster, locations, cur_classes = mycity_crop.extract_class_raster(grid_size=grid_size)\n",
    "raster.shape"
   ]
  },
  {
   "cell_type": "code",
   "execution_count": null,
   "metadata": {
    "collapsed": true
   },
   "outputs": [],
   "source": [
    "locations_train = mycity.generate_sampling_locations()\n",
    "locations_train.head()"
   ]
  },
  {
   "cell_type": "markdown",
   "metadata": {},
   "source": [
    "#### Run pipeline for all cities in the Urban Atlas dataset"
   ]
  },
  {
   "cell_type": "code",
   "execution_count": 6,
   "metadata": {
    "collapsed": true
   },
   "outputs": [],
   "source": [
    "%%px --local\n",
    "\n",
    "# for constructing ground truth raster grids\n",
    "\n",
    "grid_cell = 100\n",
    "grid_size = (grid_cell, grid_cell)\n",
    "window_km_vec = [25, 30, 50]\n",
    "\n",
    "# for generating sampling locations\n",
    "\n",
    "img_area = (224 * 1.19/ 1000)**2 # in km^2, at zoom level 17\n",
    "thresh_frac = 0.25 # at least <thresh_frac> % of the image should be covered by a polygon of a given class\n",
    "thresh_area = img_area * thresh_frac  \n",
    "# print \"Threshold area: %2.2f km^2\"%thresh_area\n",
    "\n",
    "n_classes = len(classes)\n",
    "\n",
    "N_SAMPLES_PER_CITY  = 25000\n",
    "N_SAMPLES_PER_CLASS = N_SAMPLES_PER_CITY / n_classes\n",
    "MAX_SAMPLES_PER_POLY= 50"
   ]
  },
  {
   "cell_type": "code",
   "execution_count": 36,
   "metadata": {
    "collapsed": true
   },
   "outputs": [],
   "source": [
    "def fn_generate_stats(shapefile):\n",
    "    cityname = \"%s, %s\" % fn_process_path(shapefile)\n",
    "        \n",
    "    print \"Processing %s\"%cityname\n",
    "    \n",
    "    savedir = \"%s/%s/\"%(outPath, cityname)\n",
    "    if not os.path.exists(savedir):\n",
    "        os.makedirs(savedir)\n",
    "\n",
    "    if len([x for x in os.listdir(savedir) if 'ground_truth_class_raster' in x])==3:\n",
    "        return \"Already processed!\"\n",
    "   \n",
    "    mycity = ua.UAShapeFile(shapefile, name=cityname)\n",
    "    \n",
    "    if mycity._gdf is None:\n",
    "        return \"Error reading shapefile %s\"%shapefile\n",
    "     \n",
    "    # approximate city center by the center of the bounding box of the shapefile\n",
    "    lonmin, latmin, lonmax, latmax = mycity._bounds\n",
    "    city_center = ((latmin+latmax)/2.0, (lonmin+lonmax)/2.0)\n",
    "\n",
    "    # there's some weird issue with the shapefile for Graz\n",
    "    # lat and lon are inverted?\n",
    "    if cityname in [\"graz, at\"]: #not bounds_gdf.contains(Point(city_center[::-1])):\n",
    "        gdf['geometry'] = gdf['geometry'].apply(\\\n",
    "                lambda p: Polygon((lon,lat) \\\n",
    "                    for (lon,lat) in zip(p.exterior.coords.xy[1], p.exterior.coords.xy[0])))\n",
    "    \n",
    "    # compute spatial extent of city and fraction of land classified\n",
    "    L = mycity.compute_spatial_extent()\n",
    "    frac_classified = mycity.compute_classified_area()\n",
    "    frac_classified['pct land classified'] = frac_classified.sum()\n",
    "    frac_classified['spatial extent'] = L\n",
    "    frac_classified.to_csv(\"%s/basic_stats.csv\"%savedir)\n",
    "        \n",
    "    for W in window_km_vec:\n",
    "        # crop a window of width WxW centered at the city center\n",
    "        window = (W, W)\n",
    "        mycity_crop = mycity.crop_centered_window(city_center, window)\n",
    "                    \n",
    "        # compute ground traster for given window size\n",
    "        raster, locations_grid, cur_classes = mycity_crop.extract_class_raster(grid_size=grid_size)\n",
    "        myraster = np.zeros(grid_size + (len(classes),))\n",
    "        idx = [class2label[c] for k,c in enumerate(cur_classes)]\n",
    "        myraster[:,:,idx] = raster\n",
    "        \n",
    "        # save data\n",
    "        np.savez_compressed(\"%s/ground_truth_class_raster_%dkm.npz\"%(savedir,W), myraster, classes)\n",
    "        locations_grid.to_csv(\"%s/sample_locations_raster_%dkm.csv\"%(savedir,W), index=False)\n",
    " \n",
    "    # extract sampling locations for training\n",
    "    locations_train = mycity.generate_sampling_locations(thresh_area=thresh_area, \\\n",
    "                                                         n_samples_per_class=N_SAMPLES_PER_CLASS,\\\n",
    "                                                         max_samples=MAX_SAMPLES_PER_POLY)\n",
    "    locations_train.to_csv(\"%s/additional_sample_locations.csv\"%(savedir))"
   ]
  },
  {
   "cell_type": "code",
   "execution_count": null,
   "metadata": {
    "collapsed": true
   },
   "outputs": [],
   "source": [
    "shapefile = shapefiles[\"limoges, fr\"]\n",
    "cityname = \"%s, %s\" % fn_process_path(shapefile)\n",
    "print cityname\n",
    "savedir = \"%s/%s/\"%(outPath, cityname)\n",
    "print len([x for x in os.listdir(savedir) if 'ground_truth_class_raster' in x])==3\n",
    "[x for x in os.listdir(savedir) if 'ground_truth_class_raster' in x]\n",
    "\n",
    "print shapefile\n",
    "fn_generate_stats(shapefile)"
   ]
  },
  {
   "cell_type": "code",
   "execution_count": 8,
   "metadata": {
    "collapsed": true
   },
   "outputs": [],
   "source": [
    "res = lbv.map_async(fn_generate_stats, shapefiles.values())"
   ]
  },
  {
   "cell_type": "code",
   "execution_count": 10,
   "metadata": {},
   "outputs": [
    {
     "data": {
      "text/plain": [
       "296"
      ]
     },
     "execution_count": 10,
     "metadata": {},
     "output_type": "execute_result"
    }
   ],
   "source": [
    "res.progress"
   ]
  },
  {
   "cell_type": "markdown",
   "metadata": {},
   "source": [
    "# Plot statistics on all ~300 cities in Urban Atlas\n"
   ]
  },
  {
   "cell_type": "code",
   "execution_count": 20,
   "metadata": {},
   "outputs": [
    {
     "data": {
      "text/html": [
       "<div>\n",
       "<style>\n",
       "    .dataframe thead tr:only-child th {\n",
       "        text-align: right;\n",
       "    }\n",
       "\n",
       "    .dataframe thead th {\n",
       "        text-align: left;\n",
       "    }\n",
       "\n",
       "    .dataframe tbody tr th {\n",
       "        vertical-align: top;\n",
       "    }\n",
       "</style>\n",
       "<table border=\"1\" class=\"dataframe\">\n",
       "  <thead>\n",
       "    <tr style=\"text-align: right;\">\n",
       "      <th></th>\n",
       "      <th>Agricultural + Semi-natural areas + Wetlands</th>\n",
       "      <th>Airports</th>\n",
       "      <th>Construction sites</th>\n",
       "      <th>Continuous Urban Fabric (S.L. &gt; 80%)</th>\n",
       "      <th>Discontinuous Dense Urban Fabric (S.L. : 50% -  80%)</th>\n",
       "      <th>Discontinuous Low Density Urban Fabric (S.L. : 10% - 30%)</th>\n",
       "      <th>Discontinuous Medium Density Urban Fabric (S.L. : 30% - 50%)</th>\n",
       "      <th>Discontinuous Very Low Density Urban Fabric (S.L. &lt; 10%)</th>\n",
       "      <th>Fast transit roads and associated land</th>\n",
       "      <th>Forests</th>\n",
       "      <th>...</th>\n",
       "      <th>Isolated Structures</th>\n",
       "      <th>Land without current use</th>\n",
       "      <th>Mineral extraction and dump sites</th>\n",
       "      <th>Other roads and associated land</th>\n",
       "      <th>Port areas</th>\n",
       "      <th>Railways and associated land</th>\n",
       "      <th>Sports and leisure facilities</th>\n",
       "      <th>Water bodies</th>\n",
       "      <th>pct land classified</th>\n",
       "      <th>spatial extent</th>\n",
       "    </tr>\n",
       "  </thead>\n",
       "  <tbody>\n",
       "    <tr>\n",
       "      <th>1</th>\n",
       "      <td>0.117123</td>\n",
       "      <td>0.002091</td>\n",
       "      <td>0.002637</td>\n",
       "      <td>0.014717</td>\n",
       "      <td>0.011021</td>\n",
       "      <td>0.01194</td>\n",
       "      <td>0.010022</td>\n",
       "      <td>0.002463</td>\n",
       "      <td>0.003598</td>\n",
       "      <td>0.108703</td>\n",
       "      <td>...</td>\n",
       "      <td>0.00194</td>\n",
       "      <td>0.001828</td>\n",
       "      <td>0.002773</td>\n",
       "      <td>0.02166</td>\n",
       "      <td>0.001069</td>\n",
       "      <td>0.001505</td>\n",
       "      <td>0.005642</td>\n",
       "      <td>0.001918</td>\n",
       "      <td>0.351725</td>\n",
       "      <td>79.728386</td>\n",
       "    </tr>\n",
       "  </tbody>\n",
       "</table>\n",
       "<p>1 rows × 22 columns</p>\n",
       "</div>"
      ],
      "text/plain": [
       "0  Agricultural + Semi-natural areas + Wetlands  Airports  Construction sites  \\\n",
       "1                                      0.117123  0.002091            0.002637   \n",
       "\n",
       "0  Continuous Urban Fabric (S.L. > 80%)  \\\n",
       "1                              0.014717   \n",
       "\n",
       "0  Discontinuous Dense Urban Fabric (S.L. : 50% -  80%)  \\\n",
       "1                                           0.011021      \n",
       "\n",
       "0  Discontinuous Low Density Urban Fabric (S.L. : 10% - 30%)  \\\n",
       "1                                            0.01194           \n",
       "\n",
       "0  Discontinuous Medium Density Urban Fabric (S.L. : 30% - 50%)  \\\n",
       "1                                           0.010022              \n",
       "\n",
       "0  Discontinuous Very Low Density Urban Fabric (S.L. < 10%)  \\\n",
       "1                                           0.002463          \n",
       "\n",
       "0  Fast transit roads and associated land   Forests       ...        \\\n",
       "1                                0.003598  0.108703       ...         \n",
       "\n",
       "0  Isolated Structures  Land without current use  \\\n",
       "1              0.00194                  0.001828   \n",
       "\n",
       "0  Mineral extraction and dump sites  Other roads and associated land  \\\n",
       "1                           0.002773                          0.02166   \n",
       "\n",
       "0  Port areas  Railways and associated land  Sports and leisure facilities  \\\n",
       "1    0.001069                      0.001505                       0.005642   \n",
       "\n",
       "0  Water bodies  pct land classified  spatial extent  \n",
       "1      0.001918             0.351725       79.728386  \n",
       "\n",
       "[1 rows x 22 columns]"
      ]
     },
     "execution_count": 20,
     "metadata": {},
     "output_type": "execute_result"
    }
   ],
   "source": [
    "pd.read_csv(f, header=None).set_index(0).T"
   ]
  },
  {
   "cell_type": "code",
   "execution_count": 24,
   "metadata": {},
   "outputs": [
    {
     "data": {
      "text/html": [
       "<div>\n",
       "<style>\n",
       "    .dataframe thead tr:only-child th {\n",
       "        text-align: right;\n",
       "    }\n",
       "\n",
       "    .dataframe thead th {\n",
       "        text-align: left;\n",
       "    }\n",
       "\n",
       "    .dataframe tbody tr th {\n",
       "        vertical-align: top;\n",
       "    }\n",
       "</style>\n",
       "<table border=\"1\" class=\"dataframe\">\n",
       "  <thead>\n",
       "    <tr style=\"text-align: right;\">\n",
       "      <th></th>\n",
       "      <th>Agricultural + Semi-natural areas + Wetlands</th>\n",
       "      <th>Airports</th>\n",
       "      <th>Construction sites</th>\n",
       "      <th>Continuous Urban Fabric (S.L. &gt; 80%)</th>\n",
       "      <th>Discontinuous Dense Urban Fabric (S.L. : 50% -  80%)</th>\n",
       "      <th>Discontinuous Low Density Urban Fabric (S.L. : 10% - 30%)</th>\n",
       "      <th>Discontinuous Medium Density Urban Fabric (S.L. : 30% - 50%)</th>\n",
       "      <th>Discontinuous Very Low Density Urban Fabric (S.L. &lt; 10%)</th>\n",
       "      <th>Fast transit roads and associated land</th>\n",
       "      <th>Forests</th>\n",
       "      <th>...</th>\n",
       "      <th>Land without current use</th>\n",
       "      <th>Mineral extraction and dump sites</th>\n",
       "      <th>No data</th>\n",
       "      <th>Other roads and associated land</th>\n",
       "      <th>Port areas</th>\n",
       "      <th>Railways and associated land</th>\n",
       "      <th>Sports and leisure facilities</th>\n",
       "      <th>Water bodies</th>\n",
       "      <th>pct land classified</th>\n",
       "      <th>spatial extent</th>\n",
       "    </tr>\n",
       "  </thead>\n",
       "  <tbody>\n",
       "    <tr>\n",
       "      <th>schwerin, de</th>\n",
       "      <td>0.329909</td>\n",
       "      <td>0.000523</td>\n",
       "      <td>0.000171</td>\n",
       "      <td>0.001932</td>\n",
       "      <td>0.006348</td>\n",
       "      <td>0.001569</td>\n",
       "      <td>0.004991</td>\n",
       "      <td>0.000044</td>\n",
       "      <td>0.000631</td>\n",
       "      <td>0.151272</td>\n",
       "      <td>...</td>\n",
       "      <td>0.000089</td>\n",
       "      <td>0.001100</td>\n",
       "      <td>NaN</td>\n",
       "      <td>0.005748</td>\n",
       "      <td>0.000014</td>\n",
       "      <td>0.000750</td>\n",
       "      <td>0.002589</td>\n",
       "      <td>0.015889</td>\n",
       "      <td>0.535286</td>\n",
       "      <td>99.107164</td>\n",
       "    </tr>\n",
       "    <tr>\n",
       "      <th>stara zagora, bg</th>\n",
       "      <td>0.284313</td>\n",
       "      <td>0.008148</td>\n",
       "      <td>0.002566</td>\n",
       "      <td>0.036911</td>\n",
       "      <td>0.017387</td>\n",
       "      <td>0.000312</td>\n",
       "      <td>0.002761</td>\n",
       "      <td>NaN</td>\n",
       "      <td>NaN</td>\n",
       "      <td>0.143631</td>\n",
       "      <td>...</td>\n",
       "      <td>0.000809</td>\n",
       "      <td>0.002512</td>\n",
       "      <td>NaN</td>\n",
       "      <td>0.019257</td>\n",
       "      <td>NaN</td>\n",
       "      <td>0.005205</td>\n",
       "      <td>0.004106</td>\n",
       "      <td>0.001171</td>\n",
       "      <td>0.604581</td>\n",
       "      <td>12.189360</td>\n",
       "    </tr>\n",
       "    <tr>\n",
       "      <th>cambridge, uk</th>\n",
       "      <td>0.481015</td>\n",
       "      <td>0.001980</td>\n",
       "      <td>0.000893</td>\n",
       "      <td>0.000099</td>\n",
       "      <td>0.003412</td>\n",
       "      <td>0.012261</td>\n",
       "      <td>0.019080</td>\n",
       "      <td>0.000278</td>\n",
       "      <td>0.000601</td>\n",
       "      <td>0.016428</td>\n",
       "      <td>...</td>\n",
       "      <td>0.000123</td>\n",
       "      <td>0.001205</td>\n",
       "      <td>NaN</td>\n",
       "      <td>0.010063</td>\n",
       "      <td>NaN</td>\n",
       "      <td>0.000632</td>\n",
       "      <td>0.007266</td>\n",
       "      <td>0.002247</td>\n",
       "      <td>0.588617</td>\n",
       "      <td>41.843855</td>\n",
       "    </tr>\n",
       "    <tr>\n",
       "      <th>kielce, pl</th>\n",
       "      <td>0.265214</td>\n",
       "      <td>0.000148</td>\n",
       "      <td>0.000160</td>\n",
       "      <td>0.003167</td>\n",
       "      <td>0.017085</td>\n",
       "      <td>0.000932</td>\n",
       "      <td>0.005661</td>\n",
       "      <td>0.000294</td>\n",
       "      <td>NaN</td>\n",
       "      <td>0.190908</td>\n",
       "      <td>...</td>\n",
       "      <td>0.000050</td>\n",
       "      <td>0.002501</td>\n",
       "      <td>NaN</td>\n",
       "      <td>0.006932</td>\n",
       "      <td>NaN</td>\n",
       "      <td>0.000686</td>\n",
       "      <td>0.001218</td>\n",
       "      <td>0.001713</td>\n",
       "      <td>0.506580</td>\n",
       "      <td>68.195873</td>\n",
       "    </tr>\n",
       "    <tr>\n",
       "      <th>turku, fi</th>\n",
       "      <td>0.202545</td>\n",
       "      <td>0.000672</td>\n",
       "      <td>0.000626</td>\n",
       "      <td>0.001301</td>\n",
       "      <td>0.003929</td>\n",
       "      <td>0.016495</td>\n",
       "      <td>0.007025</td>\n",
       "      <td>0.007190</td>\n",
       "      <td>0.001065</td>\n",
       "      <td>0.284555</td>\n",
       "      <td>...</td>\n",
       "      <td>0.000396</td>\n",
       "      <td>0.002628</td>\n",
       "      <td>NaN</td>\n",
       "      <td>0.012979</td>\n",
       "      <td>0.001866</td>\n",
       "      <td>0.000807</td>\n",
       "      <td>0.002974</td>\n",
       "      <td>0.006128</td>\n",
       "      <td>0.580266</td>\n",
       "      <td>61.551263</td>\n",
       "    </tr>\n",
       "  </tbody>\n",
       "</table>\n",
       "<p>5 rows × 23 columns</p>\n",
       "</div>"
      ],
      "text/plain": [
       "                  Agricultural + Semi-natural areas + Wetlands  Airports  \\\n",
       "schwerin, de                                          0.329909  0.000523   \n",
       "stara zagora, bg                                      0.284313  0.008148   \n",
       "cambridge, uk                                         0.481015  0.001980   \n",
       "kielce, pl                                            0.265214  0.000148   \n",
       "turku, fi                                             0.202545  0.000672   \n",
       "\n",
       "                  Construction sites  Continuous Urban Fabric (S.L. > 80%)  \\\n",
       "schwerin, de                0.000171                              0.001932   \n",
       "stara zagora, bg            0.002566                              0.036911   \n",
       "cambridge, uk               0.000893                              0.000099   \n",
       "kielce, pl                  0.000160                              0.003167   \n",
       "turku, fi                   0.000626                              0.001301   \n",
       "\n",
       "                  Discontinuous Dense Urban Fabric (S.L. : 50% -  80%)  \\\n",
       "schwerin, de                                               0.006348      \n",
       "stara zagora, bg                                           0.017387      \n",
       "cambridge, uk                                              0.003412      \n",
       "kielce, pl                                                 0.017085      \n",
       "turku, fi                                                  0.003929      \n",
       "\n",
       "                  Discontinuous Low Density Urban Fabric (S.L. : 10% - 30%)  \\\n",
       "schwerin, de                                               0.001569           \n",
       "stara zagora, bg                                           0.000312           \n",
       "cambridge, uk                                              0.012261           \n",
       "kielce, pl                                                 0.000932           \n",
       "turku, fi                                                  0.016495           \n",
       "\n",
       "                  Discontinuous Medium Density Urban Fabric (S.L. : 30% - 50%)  \\\n",
       "schwerin, de                                               0.004991              \n",
       "stara zagora, bg                                           0.002761              \n",
       "cambridge, uk                                              0.019080              \n",
       "kielce, pl                                                 0.005661              \n",
       "turku, fi                                                  0.007025              \n",
       "\n",
       "                  Discontinuous Very Low Density Urban Fabric (S.L. < 10%)  \\\n",
       "schwerin, de                                               0.000044          \n",
       "stara zagora, bg                                                NaN          \n",
       "cambridge, uk                                              0.000278          \n",
       "kielce, pl                                                 0.000294          \n",
       "turku, fi                                                  0.007190          \n",
       "\n",
       "                  Fast transit roads and associated land   Forests  \\\n",
       "schwerin, de                                    0.000631  0.151272   \n",
       "stara zagora, bg                                     NaN  0.143631   \n",
       "cambridge, uk                                   0.000601  0.016428   \n",
       "kielce, pl                                           NaN  0.190908   \n",
       "turku, fi                                       0.001065  0.284555   \n",
       "\n",
       "                       ...        Land without current use  \\\n",
       "schwerin, de           ...                        0.000089   \n",
       "stara zagora, bg       ...                        0.000809   \n",
       "cambridge, uk          ...                        0.000123   \n",
       "kielce, pl             ...                        0.000050   \n",
       "turku, fi              ...                        0.000396   \n",
       "\n",
       "                  Mineral extraction and dump sites  No data  \\\n",
       "schwerin, de                               0.001100      NaN   \n",
       "stara zagora, bg                           0.002512      NaN   \n",
       "cambridge, uk                              0.001205      NaN   \n",
       "kielce, pl                                 0.002501      NaN   \n",
       "turku, fi                                  0.002628      NaN   \n",
       "\n",
       "                  Other roads and associated land  Port areas  \\\n",
       "schwerin, de                             0.005748    0.000014   \n",
       "stara zagora, bg                         0.019257         NaN   \n",
       "cambridge, uk                            0.010063         NaN   \n",
       "kielce, pl                               0.006932         NaN   \n",
       "turku, fi                                0.012979    0.001866   \n",
       "\n",
       "                  Railways and associated land  Sports and leisure facilities  \\\n",
       "schwerin, de                          0.000750                       0.002589   \n",
       "stara zagora, bg                      0.005205                       0.004106   \n",
       "cambridge, uk                         0.000632                       0.007266   \n",
       "kielce, pl                            0.000686                       0.001218   \n",
       "turku, fi                             0.000807                       0.002974   \n",
       "\n",
       "                  Water bodies  pct land classified  spatial extent  \n",
       "schwerin, de          0.015889             0.535286       99.107164  \n",
       "stara zagora, bg      0.001171             0.604581       12.189360  \n",
       "cambridge, uk         0.002247             0.588617       41.843855  \n",
       "kielce, pl            0.001713             0.506580       68.195873  \n",
       "turku, fi             0.006128             0.580266       61.551263  \n",
       "\n",
       "[5 rows x 23 columns]"
      ]
     },
     "execution_count": 24,
     "metadata": {},
     "output_type": "execute_result"
    }
   ],
   "source": [
    "datapath = \"/home/data/urban-atlas/extracted-data/\"\n",
    "\n",
    "stats_files = glob.glob(\"%s/*/basic_stats.csv\"%datapath)\n",
    "\n",
    "basic_stats_df = pd.concat([pd.read_csv(f, header=None).set_index(0).T \\\n",
    "                                for f in stats_files], axis=0)\n",
    "basic_stats_df.index = [f.split(\"/\")[-2] for f in stats_files]\n",
    "basic_stats_df.head()"
   ]
  },
  {
   "cell_type": "code",
   "execution_count": 35,
   "metadata": {},
   "outputs": [
    {
     "data": {
      "text/plain": [
       "<matplotlib.figure.Figure at 0x7f6020941390>"
      ]
     },
     "metadata": {},
     "output_type": "display_data"
    },
    {
     "data": {
      "image/png": "[encoded data removed]",
      "text/plain": [
       "<matplotlib.figure.Figure at 0x7f6020941610>"
      ]
     },
     "metadata": {},
     "output_type": "display_data"
    }
   ],
   "source": [
    "sns.set_context(\"notebook\", font_scale=1.5, rc={\"lines.linewidth\": 1})\n",
    "\n",
    "plt.figure(figsize=(8,4))\n",
    "g = sns.jointplot(x=basic_stats_df[\"spatial extent\"], \n",
    "                  y=basic_stats_df[\"pct land classified\"], \n",
    "                  kind=\"kde\", color=\"k\", \n",
    "                  ylim=(0.2,0.9), xlim=(1,120), stat_func=None)\n",
    "g.plot_joint(plt.scatter, c=\"green\", s=30, linewidth=1, marker=\"+\")\n",
    "g.ax_joint.collections[0].set_alpha(0.7)\n",
    "g.set_axis_labels(\"city spatial extent $L$ [km]\", \"land classified $\\%$\");"
   ]
  },
  {
   "cell_type": "code",
   "execution_count": null,
   "metadata": {
    "collapsed": true
   },
   "outputs": [],
   "source": []
  }
 ],
 "metadata": {
  "kernelspec": {
   "display_name": "Python 2",
   "language": "python",
   "name": "python2"
  },
  "language_info": {
   "codemirror_mode": {
    "name": "ipython",
    "version": 2
   },
   "file_extension": ".py",
   "mimetype": "text/x-python",
   "name": "python",
   "nbconvert_exporter": "python",
   "pygments_lexer": "ipython2",
   "version": "2.7.12"
  }
 },
 "nbformat": 4,
 "nbformat_minor": 1
}
