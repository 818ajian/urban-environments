{
 "cells": [
  {
   "cell_type": "markdown",
   "metadata": {},
   "source": [
    "# Pipeline to acquire satellite imagery for the _Urban Environments_ project from Google Maps"
   ]
  },
  {
   "cell_type": "markdown",
   "metadata": {},
   "source": [
    "This notebook implements a pipeline for acquiring satellite imagery given a list of desired locations. It illustrates how to use the [`satapi` package](https://github.com/adrianalbert/satapi) to collect satellite imagery via the Google Maps Static API. Imagery contains only visual bands.\n",
    "\n",
    "You can install the `satapi` package directly using `pip`:\n",
    "```bash\n",
    "pip install satapi\n",
    "```\n",
    "\n",
    "The pipeline code is fairly customized to specifics of how we decided to store location information in the _Urban Environments_ project. However, this can be modified according to the user needs.  "
   ]
  },
  {
   "cell_type": "markdown",
   "metadata": {},
   "source": [
    "# Setup packages & paths"
   ]
  },
  {
   "cell_type": "code",
   "execution_count": 1,
   "metadata": {},
   "outputs": [],
   "source": [
    "# numeric packages\n",
    "import numpy as np\n",
    "import pandas as pd\n",
    "\n",
    "# filesystem and OS\n",
    "import sys, os, time\n",
    "import glob\n",
    "\n",
    "# plotting\n",
    "from matplotlib import pyplot as plt\n",
    "%matplotlib inline\n",
    "\n",
    "import seaborn as sns\n",
    "sns.set_style(\"whitegrid\", {'axes.grid' : False})\n",
    "\n",
    "# widgets and interaction\n",
    "from ipywidgets import FloatProgress\n",
    "from IPython.display import display, clear_output\n",
    "\n",
    "import warnings\n",
    "warnings.filterwarnings('ignore')\n",
    "\n",
    "# these magics ensure that external modules that are modified are also automatically reloaded\n",
    "%load_ext autoreload\n",
    "%autoreload 2"
   ]
  },
  {
   "cell_type": "code",
   "execution_count": 15,
   "metadata": {},
   "outputs": [],
   "source": [
    "import satapi\n",
    "from satapi.googlemaps.GoogleMaps import GoogleMaps"
   ]
  },
  {
   "cell_type": "markdown",
   "metadata": {},
   "source": [
    "#### Load locations data"
   ]
  },
  {
   "cell_type": "code",
   "execution_count": 4,
   "metadata": {
    "collapsed": true
   },
   "outputs": [],
   "source": [
    "locations_path = \"/home/data/urban-atlas/extracted-data/\"\n",
    "\n",
    "grid_location_files = glob.glob(\"%s/*/sample_locations_raster_25.csv\"%locations_path)\n",
    "grid_location_files = {f.split(\"/\")[-2]:f for f in grid_location_files}\n",
    "\n",
    "more_location_files = glob.glob(\"%s/*/additional_sample_locations.csv\"%locations_path)\n",
    "more_location_files = {f.split(\"/\")[-2]:f for f in more_location_files}"
   ]
  },
  {
   "cell_type": "code",
   "execution_count": 32,
   "metadata": {
    "collapsed": true
   },
   "outputs": [],
   "source": [
    "def load_locations():\n",
    "    grid_locations_df = pd.read_csv(\"sample_locations_raster_25km.csv\")\n",
    "    more_locations_df = pd.read_csv(\"additional_sample_locations25km.csv\")\\\n",
    "                            .rename(columns={\"ITEM\":\"class\"})\n",
    "    print \"Grid samples: %d. Additional samples: %d\" % \\\n",
    "            (len(grid_locations_df), len(more_locations_df))\n",
    "        \n",
    "    more_locations_df['grid-i'] = np.nan\n",
    "    more_locations_df['grid-j'] = np.nan\n",
    "    columns = [\"lon\", \"lat\", \"grid-i\", \"grid-j\", \"class\"]\n",
    "    \n",
    "    return grid_locations_df\n",
    "    # locations = more_locations_df[columns]\n",
    "    # locations = grid_locations_df[columns]\n",
    "    locations = pd.concat([grid_locations_df[columns], \n",
    "                           more_locations_df[columns]])\n",
    "    locations = locations.reset_index().drop(\"index\", 1)\n",
    "    \n",
    "    return locations"
   ]
  },
  {
   "cell_type": "code",
   "execution_count": 33,
   "metadata": {},
   "outputs": [
    {
     "name": "stdout",
     "output_type": "stream",
     "text": [
      "Grid samples: 7840. Additional samples: 26948\n",
      "7840\n"
     ]
    },
    {
     "data": {
      "text/plain": [
       "class\n",
       "Agricultural + Semi-natural areas + Wetlands                    4247\n",
       "Construction sites                                                62\n",
       "Continuous Urban Fabric (S.L. > 80%)                             152\n",
       "Discontinuous Dense Urban Fabric (S.L. : 50% -  80%)             129\n",
       "Discontinuous Low Density Urban Fabric (S.L. : 10% - 30%)        153\n",
       "Discontinuous Medium Density Urban Fabric (S.L. : 30% - 50%)     205\n",
       "Discontinuous Very Low Density Urban Fabric (S.L. < 10%)          29\n",
       "Fast transit roads and associated land                            30\n",
       "Forests                                                          114\n",
       "Green urban areas                                                353\n",
       "Industrial, commercial, public, military and private units       167\n",
       "Mineral extraction and dump sites                                  4\n",
       "Other roads and associated land                                 2074\n",
       "Railways and associated land                                      18\n",
       "Sports and leisure facilities                                     85\n",
       "Water bodies                                                      18\n",
       "dtype: int64"
      ]
     },
     "execution_count": 33,
     "metadata": {},
     "output_type": "execute_result"
    }
   ],
   "source": [
    "city = \"madrid, es\"\n",
    "\n",
    "workdir = \"%s/%s\" % (outPath, city)\n",
    "os.chdir(workdir)\n",
    "\n",
    "locations = load_locations()\n",
    "print len(locations)\n",
    "\n",
    "locations.groupby(\"class\").apply(len)"
   ]
  },
  {
   "cell_type": "code",
   "execution_count": 35,
   "metadata": {},
   "outputs": [
    {
     "data": {
      "text/html": [
       "<div>\n",
       "<style>\n",
       "    .dataframe thead tr:only-child th {\n",
       "        text-align: right;\n",
       "    }\n",
       "\n",
       "    .dataframe thead th {\n",
       "        text-align: left;\n",
       "    }\n",
       "\n",
       "    .dataframe tbody tr th {\n",
       "        vertical-align: top;\n",
       "    }\n",
       "</style>\n",
       "<table border=\"1\" class=\"dataframe\">\n",
       "  <thead>\n",
       "    <tr style=\"text-align: right;\">\n",
       "      <th></th>\n",
       "      <th>grid-i</th>\n",
       "      <th>grid-j</th>\n",
       "      <th>lon</th>\n",
       "      <th>lat</th>\n",
       "      <th>class</th>\n",
       "    </tr>\n",
       "  </thead>\n",
       "  <tbody>\n",
       "    <tr>\n",
       "      <th>0</th>\n",
       "      <td>0</td>\n",
       "      <td>33</td>\n",
       "      <td>-4.010331</td>\n",
       "      <td>40.454835</td>\n",
       "      <td>Agricultural + Semi-natural areas + Wetlands</td>\n",
       "    </tr>\n",
       "    <tr>\n",
       "      <th>1</th>\n",
       "      <td>0</td>\n",
       "      <td>34</td>\n",
       "      <td>-4.010331</td>\n",
       "      <td>40.458459</td>\n",
       "      <td>Agricultural + Semi-natural areas + Wetlands</td>\n",
       "    </tr>\n",
       "    <tr>\n",
       "      <th>2</th>\n",
       "      <td>0</td>\n",
       "      <td>35</td>\n",
       "      <td>-4.010331</td>\n",
       "      <td>40.462084</td>\n",
       "      <td>Agricultural + Semi-natural areas + Wetlands</td>\n",
       "    </tr>\n",
       "    <tr>\n",
       "      <th>3</th>\n",
       "      <td>0</td>\n",
       "      <td>36</td>\n",
       "      <td>-4.010331</td>\n",
       "      <td>40.465708</td>\n",
       "      <td>Agricultural + Semi-natural areas + Wetlands</td>\n",
       "    </tr>\n",
       "    <tr>\n",
       "      <th>4</th>\n",
       "      <td>0</td>\n",
       "      <td>37</td>\n",
       "      <td>-4.010331</td>\n",
       "      <td>40.469332</td>\n",
       "      <td>Agricultural + Semi-natural areas + Wetlands</td>\n",
       "    </tr>\n",
       "  </tbody>\n",
       "</table>\n",
       "</div>"
      ],
      "text/plain": [
       "   grid-i  grid-j       lon        lat  \\\n",
       "0       0      33 -4.010331  40.454835   \n",
       "1       0      34 -4.010331  40.458459   \n",
       "2       0      35 -4.010331  40.462084   \n",
       "3       0      36 -4.010331  40.465708   \n",
       "4       0      37 -4.010331  40.469332   \n",
       "\n",
       "                                          class  \n",
       "0  Agricultural + Semi-natural areas + Wetlands  \n",
       "1  Agricultural + Semi-natural areas + Wetlands  \n",
       "2  Agricultural + Semi-natural areas + Wetlands  \n",
       "3  Agricultural + Semi-natural areas + Wetlands  \n",
       "4  Agricultural + Semi-natural areas + Wetlands  "
      ]
     },
     "execution_count": 35,
     "metadata": {},
     "output_type": "execute_result"
    }
   ],
   "source": [
    "locations.head()"
   ]
  },
  {
   "cell_type": "markdown",
   "metadata": {},
   "source": [
    "# Extract imagery from Google Maps"
   ]
  },
  {
   "cell_type": "code",
   "execution_count": 16,
   "metadata": {},
   "outputs": [],
   "source": [
    "import os\n",
    "googleAPIKey = os.environ['GM_API_KEY']\n",
    "gmClient = GoogleMaps(key=googleAPIKey)\n",
    "\n",
    "MAX_REQUESTS = 25000\n",
    "MAX_TRIES    = 2\n",
    "img_size     = 224\n",
    "ZOOM         = 17"
   ]
  },
  {
   "cell_type": "code",
   "execution_count": 17,
   "metadata": {
    "collapsed": true
   },
   "outputs": [],
   "source": [
    "# cities = [\"bucuresti\", \"berlin\", \"barcelona\", \"paris\", \"athina\", \\\n",
    "#           \"firenze\", \"dublin\", \"london\", \"tallinn\", \"bremen\"]\n",
    "\n",
    "cities = [\"eindhoven\", \"london\", \"belfast\", \"budapest\", \"bremen\", \"roma\", \"madrid\"]"
   ]
  },
  {
   "cell_type": "code",
   "execution_count": null,
   "metadata": {
    "collapsed": true
   },
   "outputs": [],
   "source": [
    "def download_images(locations, prefix=\"\", out_path=\"./\"):\n",
    "    if not os.path.exists(out_path):\n",
    "        os.makedirs(out_path)\n",
    "    \n",
    "    global n_requests\n",
    "    \n",
    "    for i,r in locations.iterrows():\n",
    "        clear_output(wait=True)\n",
    "        print \"Pulling image %d/%d... (# API requests = %d)\"%(i,len(locations), n_requests)\n",
    "        label, lat, lon, grid_i, grid_j = r['class'], r['lat'], r['lon'], r['grid-i'], r['grid-j']\n",
    "\n",
    "        basename = \"%s/%s/%s_z%d_%2.5f_%2.5f\"%(out_path, label, prefix, ZOOM, lat, lon)\n",
    "        if not np.isnan(grid_i) and not np.isnan(grid_j):\n",
    "            cur_filename = \"%s_grid-i%d_grid-j%d.jpg\"%(basename, grid_i, grid_j)\n",
    "        else:\n",
    "            cur_filename = \"%s.jpg\"%basename\n",
    "        print cur_filename\n",
    "\n",
    "        if os.path.exists(cur_filename):\n",
    "            continue\n",
    "\n",
    "        req = gmClient.construct_static_url((lat,lon), maptype=\"satellite\", zoom=ZOOM, \\\n",
    "                                            imgsize=(int(img_size*1.18), int(img_size*1.18)))\n",
    "        img = gmClient.get_static_map_image(req, filename=cur_filename, \\\n",
    "                                            max_tries=MAX_TRIES,\\\n",
    "                                            crop=True)\n",
    "\n",
    "        if img is None or n_requests >= MAX_REQUESTS:\n",
    "            print \"API requests quota exceeded!\"       \n",
    "            break\n",
    "        n_requests += 1\n",
    "\n",
    "        # display samples every now and then\n",
    "        if i % 100 == 0:\n",
    "            plt.imshow(img)\n",
    "            plt.title(\"image %d (label = %s)\"%(i,label))\n",
    "            plt.show()\n",
    "            time.sleep(5)   "
   ]
  },
  {
   "cell_type": "code",
   "execution_count": null,
   "metadata": {
    "collapsed": true
   },
   "outputs": [],
   "source": [
    "n_requests = 0"
   ]
  },
  {
   "cell_type": "code",
   "execution_count": null,
   "metadata": {
    "collapsed": true
   },
   "outputs": [],
   "source": [
    "# path to save data\n",
    "\n",
    "outPath = \"/home/data/urban-atlas/extracted-data/\"\n",
    "if not os.path.exists(outPath):\n",
    "    os.makedirs(outPath)\n",
    "    \n",
    "# download data for a given city\n",
    "\n",
    "city = \"budapest\"\n",
    "\n",
    "workdir = \"%s/%s\" % (outPath, city)\n",
    "os.chdir(workdir)\n",
    "\n",
    "locations = load_locations()\n",
    "\n",
    "download_images(locations, prefix=city, out_path=\"./img\")"
   ]
  },
  {
   "cell_type": "code",
   "execution_count": null,
   "metadata": {
    "collapsed": true
   },
   "outputs": [],
   "source": [
    "n_requests"
   ]
  },
  {
   "cell_type": "markdown",
   "metadata": {
    "collapsed": true
   },
   "source": [
    "# Example extracted images"
   ]
  },
  {
   "cell_type": "code",
   "execution_count": null,
   "metadata": {
    "collapsed": true
   },
   "outputs": [],
   "source": [
    "def plot_examples(images, labels, classes=None, \\\n",
    "                  nExamples=10, thumbSize = (50,50), title=\"example\"):\n",
    "    # build example canvass \n",
    "    from skimage.transform import resize\n",
    "    \n",
    "    clustLabels = np.unique(labels)\n",
    "    nClusters = clustLabels.size\n",
    "    canvas = np.zeros((thumbSize[0]*nClusters, nExamples*thumbSize[1], 3))\n",
    "    for i,c in enumerate(clustLabels):\n",
    "        cur_class_samples = np.where(labels==c)[0]\n",
    "        idx = np.random.choice(cur_class_samples, replace=False, size=min([nExamples, len(cur_class_samples)]))\n",
    "        for j in range(len(idx)):\n",
    "            img = images[idx[j],:,:,:3]\n",
    "            img = resize(img, thumbSize)\n",
    "            canvas[i*thumbSize[0]:(i+1)*thumbSize[0], j*thumbSize[1]:(j+1)*thumbSize[1]] = img\n",
    "    \n",
    "    # plot examples of each class\n",
    "    fig,ax = plt.subplots(1, figsize=(12,10))\n",
    "    plt.tight_layout()\n",
    "    print canvas.shape\n",
    "    ax.imshow(canvas.swapaxes(0,1))#, aspect='auto')\n",
    "    ax.set_title(title, fontsize=18)\n",
    "    ax.set_ylabel(\"-- examples --\", fontsize=16)\n",
    "    ax.set_xlabel(\"-- land classes --\", fontsize=16)\n",
    "    # Turn off tick labels\n",
    "    if classes is None: classes = clustLabels\n",
    "    ax.set_xticks([thumbSize[0]*(0.5 + x) for x in range(nClusters)])\n",
    "    ax.set_xticklabels(classes, fontsize=16, rotation=90)\n",
    "    ax.set_yticklabels([])\n",
    "    #plt.axis(\"off\")\n",
    "    plt.show()"
   ]
  },
  {
   "cell_type": "code",
   "execution_count": null,
   "metadata": {
    "collapsed": true
   },
   "outputs": [],
   "source": [
    "img_dir = \"/home/data/urban-atlas/extracted-data/berlin/img/\"\n",
    "\n",
    "import glob\n",
    "\n",
    "files = np.array(glob.glob(img_dir + \"/*/*.jpg\"))\n",
    "\n",
    "files_df =  pd.DataFrame(files).rename(columns={0:\"filename\"})\n",
    "files_df['class'] = files_df['filename'].apply(lambda x: x.split(\"/\")[-2])\n",
    "files_df['city'] = files_df['filename'].apply(lambda x: x.split(\"/\")[-3])\n",
    "\n",
    "files_df.head()"
   ]
  },
  {
   "cell_type": "code",
   "execution_count": null,
   "metadata": {
    "collapsed": true
   },
   "outputs": [],
   "source": [
    "files_df['class'] = files_df['class'].apply(\n",
    "    lambda x: consolidate_classes[x] if x in consolidate_classes else x)\n",
    "files_df = files_df[files_df['class'].isin(include_classes)]"
   ]
  },
  {
   "cell_type": "code",
   "execution_count": null,
   "metadata": {
    "collapsed": true
   },
   "outputs": [],
   "source": [
    "n_samples = 10\n",
    "\n",
    "sel_df = files_df.groupby(\"class\").apply(lambda x: x.sample(n_samples))\n",
    "\n",
    "from skimage.io import imread\n",
    "images = np.array(sel_df['filename'].apply(imread).values.tolist())\n",
    "labels = sel_df['class'].apply(split_str)"
   ]
  },
  {
   "cell_type": "code",
   "execution_count": null,
   "metadata": {
    "collapsed": true
   },
   "outputs": [],
   "source": [
    "plot_examples(images, labels, nExamples=10, thumbSize = (50,50), title=\"Urban Atlas Dataset: Examples\")"
   ]
  },
  {
   "cell_type": "code",
   "execution_count": null,
   "metadata": {
    "collapsed": true
   },
   "outputs": [],
   "source": [
    "plot_examples(images, labels, nExamples=5, thumbSize = (50,50), title=\"Urban Atlas Dataset: Examples\")"
   ]
  }
 ],
 "metadata": {
  "kernelspec": {
   "display_name": "Python 2",
   "language": "python",
   "name": "python2"
  },
  "language_info": {
   "codemirror_mode": {
    "name": "ipython",
    "version": 2
   },
   "file_extension": ".py",
   "mimetype": "text/x-python",
   "name": "python",
   "nbconvert_exporter": "python",
   "pygments_lexer": "ipython2",
   "version": "2.7.12"
  }
 },
 "nbformat": 4,
 "nbformat_minor": 1
}
